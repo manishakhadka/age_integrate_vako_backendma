{
  "cells": [
    {
      "cell_type": "markdown",
      "metadata": {
        "id": "view-in-github",
        "colab_type": "text"
      },
      "source": [
        "<a href=\"https://colab.research.google.com/github/manishakhadka/age_integrate_vako_backendma/blob/main/W3resource_Query_executer.ipynb\" target=\"_parent\"><img src=\"https://colab.research.google.com/assets/colab-badge.svg\" alt=\"Open In Colab\"/></a>"
      ]
    },
    {
      "cell_type": "code",
      "execution_count": null,
      "metadata": {
        "id": "2N8alDNp2Sev"
      },
      "outputs": [],
      "source": [
        "import requests\n",
        "from IPython.display import Markdown"
      ]
    },
    {
      "cell_type": "code",
      "execution_count": null,
      "metadata": {
        "id": "DjJo6QGD2Se1"
      },
      "outputs": [],
      "source": []
    },
    {
      "cell_type": "code",
      "execution_count": null,
      "metadata": {
        "id": "3m5gSDgS2Se3"
      },
      "outputs": [],
      "source": [
        "def exe(query):\n",
        "    form_data = {\n",
        "    \"query\": query\n",
        "    }\n",
        "    headers = {\n",
        "        \"Content-Type\": \"multipart/form-data\"\n",
        "    }\n",
        "    url = \"https://www.w3resource.com/sql-exercises/sql-con.php\"\n",
        "    response = requests.post(url, data=form_data)\n",
        "    result = response.text\n",
        "    return Markdown(result)"
      ]
    },
    {
      "cell_type": "code",
      "execution_count": null,
      "metadata": {
        "id": "VaT5MblM2Se5",
        "outputId": "e9915af5-468d-43cd-c378-fcdca4928a37"
      },
      "outputs": [
        {
          "data": {
            "text/markdown": [
              "<table id='rs_tbl' class='table table-bordered' style='display: block; overflow-x: scroll'>\n",
              "<tr>\n",
              "<th>salesman_id</th><th>name</th><th>city</th><th>commission</th></tr><tr><td>5001</td><td>James Hoog</td><td>New York</td><td>0.15</td></tr>\n",
              "<tr><td>5002</td><td>Nail Knite</td><td>Paris</td><td>0.13</td></tr>\n",
              "<tr><td>5005</td><td>Pit Alex</td><td>London</td><td>0.11</td></tr>\n",
              "<tr><td>5006</td><td>Mc Lyon</td><td>Paris</td><td>0.14</td></tr>\n",
              "<tr><td>5007</td><td>Paul Adam</td><td>Rome</td><td>0.13</td></tr>\n",
              "<tr><td>5003</td><td>Lauson Hen</td><td>San Jose</td><td>0.12</td></tr>\n",
              "</table>\n"
            ],
            "text/plain": [
              "<IPython.core.display.Markdown object>"
            ]
          },
          "execution_count": 9,
          "metadata": {},
          "output_type": "execute_result"
        }
      ],
      "source": [
        "exe(\"SELECT * FROM salesman\")"
      ]
    },
    {
      "cell_type": "code",
      "execution_count": null,
      "metadata": {
        "colab": {
          "base_uri": "https://localhost:8080/",
          "height": 236
        },
        "id": "GEnDiuPF2Se9",
        "outputId": "8d41430c-1543-428a-ad8c-9c0a6a6536ea"
      },
      "outputs": [
        {
          "output_type": "execute_result",
          "data": {
            "text/plain": [
              "<IPython.core.display.Markdown object>"
            ],
            "text/markdown": "<table id='rs_tbl' class='table table-bordered' style='display: block; overflow-x: scroll'>\n<tr>\n<th>customername</th><th>city</th><th>salesman</th><th>commission</th></tr><tr><td>Nick Rimando</td><td>New York</td><td>James Hoog</td><td>0.15</td></tr>\n<tr><td>Brad Davis</td><td>New York</td><td>James Hoog</td><td>0.15</td></tr>\n<tr><td>Graham Zusi</td><td>California</td><td>Nail Knite</td><td>0.13</td></tr>\n<tr><td>Julian Green</td><td>London</td><td>Nail Knite</td><td>0.13</td></tr>\n<tr><td>Fabian Johnson</td><td>Paris</td><td>Mc Lyon</td><td>0.14</td></tr>\n<tr><td>Jozy Altidor</td><td>Moscow</td><td>Paul Adam</td><td>0.13</td></tr>\n</table>\n"
          },
          "metadata": {},
          "execution_count": 5
        }
      ],
      "source": [
        "#Q.No.4 From the following tables write a SQL query to find salespeople who received commissions of more than 12 percent from the company.\n",
        "# Return Customer Name, customer city,\n",
        "#  Salesman, commission.\n",
        "\n",
        "# Sample table: customer\n",
        "\n",
        "#  customer_id |   cust_name    |    city    | grade | salesman_id\n",
        "# -------------+----------------+------------+-------+-------------\n",
        "#         3002 | Nick Rimando   | New York   |   100 |        5001\n",
        "#         3007 | Brad Davis     | New York   |   200 |        5001\n",
        "#         3005 | Graham Zusi    | California |   200 |        5002\n",
        "#         3008 | Julian Green   | London     |   300 |        5002\n",
        "#         3004 | Fabian Johnson | Paris      |   300 |        5006\n",
        "#         3009 | Geoff Cameron  | Berlin     |   100 |        5003\n",
        "#         3003 | Jozy Altidor   | Moscow     |   200 |        5007\n",
        "#         3001 | Brad Guzan     | London     |       |        5005\n",
        "# Sample table: salesman\n",
        "\n",
        "#  salesman_id |    name    |   city   | commission\n",
        "# -------------+------------+----------+------------\n",
        "#         5001 | James Hoog | New York |       0.15\n",
        "#         5002 | Nail Knite | Paris    |       0.13\n",
        "\n",
        "\n",
        "\n",
        "exe(\"SELECT customer.cust_name AS customername, customer.city, salesman.name AS salesman,salesman.commission FROM customer INNER JOIN salesman ON customer.salesman_id=salesman.salesman_id WHERE salesman.commission>0.12 \" )"
      ]
    },
    {
      "cell_type": "code",
      "source": [
        "exe(\"SELECT customer.cust_name AS customername, customer.city, salesman.name AS salesman,salesman.commission FROM customer INNER JOIN salesman ON customer.salesman_id=salesman.salesman_id\")"
      ],
      "metadata": {
        "colab": {
          "base_uri": "https://localhost:8080/",
          "height": 299
        },
        "id": "Oqk7RBft8uuo",
        "outputId": "49cd96c5-30b0-4566-9759-1fb477934d7d"
      },
      "execution_count": null,
      "outputs": [
        {
          "output_type": "execute_result",
          "data": {
            "text/plain": [
              "<IPython.core.display.Markdown object>"
            ],
            "text/markdown": "<table id='rs_tbl' class='table table-bordered' style='display: block; overflow-x: scroll'>\n<tr>\n<th>customername</th><th>city</th><th>salesman</th><th>commission</th></tr><tr><td>Nick Rimando</td><td>New York</td><td>James Hoog</td><td>0.15</td></tr>\n<tr><td>Brad Davis</td><td>New York</td><td>James Hoog</td><td>0.15</td></tr>\n<tr><td>Graham Zusi</td><td>California</td><td>Nail Knite</td><td>0.13</td></tr>\n<tr><td>Julian Green</td><td>London</td><td>Nail Knite</td><td>0.13</td></tr>\n<tr><td>Fabian Johnson</td><td>Paris</td><td>Mc Lyon</td><td>0.14</td></tr>\n<tr><td>Geoff Cameron</td><td>Berlin</td><td>Lauson Hen</td><td>0.12</td></tr>\n<tr><td>Jozy Altidor</td><td>Moscow</td><td>Paul Adam</td><td>0.13</td></tr>\n<tr><td>Brad Guzan</td><td>London</td><td>Pit Alex</td><td>0.11</td></tr>\n</table>\n"
          },
          "metadata": {},
          "execution_count": 6
        }
      ]
    },
    {
      "cell_type": "code",
      "source": [
        "# 5. From the following tables write a SQL query to locate those salespeople who do not live in the same city where their customers live and\n",
        "#  have received a commission of more than 12% from the company. Return Customer Name, customer city, Salesman, salesman city, commission.\n",
        "\n",
        "# Sample table: customer\n",
        "\n",
        "#  customer_id |   cust_name    |    city    | grade | salesman_id\n",
        "# -------------+----------------+------------+-------+-------------\n",
        "#         3002 | Nick Rimando   | New York   |   100 |        5001\n",
        "#         3007 | Brad Davis     | New York   |   200 |        5001\n",
        "#         3005 | Graham Zusi    | California |   200 |        5002\n",
        "#         3008 | Julian Green   | London     |   300 |        5002\n",
        "#         3004 | Fabian Johnson | Paris      |   300 |        5006\n",
        "#         3009 | Geoff Cameron  | Berlin     |   100 |        5003\n",
        "#         3003 | Jozy Altidor   | Moscow     |   200 |        5007\n",
        "#         3001 | Brad Guzan     | London     |       |        5005\n",
        "# Sample table: salesman\n",
        "\n",
        "#  salesman_id |    name    |   city   | commission\n",
        "# -------------+------------+----------+------------\n",
        "#         5001 | James Hoog | New York |       0.15\n",
        "#         5002 | Nail Knite | Paris    |       0.13\n",
        "\n",
        "\n",
        "exe(\"SELECT a.cust_name, a.city, b.name, b.city, b.commission FROM customer a INNER JOIN salesman b ON a.salesman_id = b.salesman_id  WHERE a.city<>b.city AND b.commission  >0.12\")\n",
        "\n",
        "\n"
      ],
      "metadata": {
        "colab": {
          "base_uri": "https://localhost:8080/",
          "height": 142
        },
        "id": "i3xBGymU83B0",
        "outputId": "e831cfa1-16b0-4921-aa66-7909adf7233b"
      },
      "execution_count": null,
      "outputs": [
        {
          "output_type": "execute_result",
          "data": {
            "text/plain": [
              "<IPython.core.display.Markdown object>"
            ],
            "text/markdown": "<table id='rs_tbl' class='table table-bordered' style='display: block; overflow-x: scroll'>\n<tr>\n<th>cust_name</th><th>city</th><th>name</th><th>commission</th></tr><tr><td>Graham Zusi</td><td>Paris</td><td>Nail Knite</td><td>0.13</td></tr>\n<tr><td>Julian Green</td><td>Paris</td><td>Nail Knite</td><td>0.13</td></tr>\n<tr><td>Jozy Altidor</td><td>Rome</td><td>Paul Adam</td><td>0.13</td></tr>\n</table>\n"
          },
          "metadata": {},
          "execution_count": 18
        }
      ]
    },
    {
      "cell_type": "code",
      "source": [],
      "metadata": {
        "id": "ghEDkKuIMv9P"
      },
      "execution_count": null,
      "outputs": []
    },
    {
      "cell_type": "code",
      "source": [
        "# 6. From the following tables write a SQL query to find the details of an order. Return ord_no, ord_date, purch_amt, Customer Name, grade, Salesman, commission.\n",
        "#  Go to the editor\n",
        "\n",
        "# Sample table: orders\n",
        "\n",
        "# ord_no      purch_amt   ord_date    customer_id  salesman_id\n",
        "# ----------  ----------  ----------  -----------  -----------\n",
        "# 70001       150.5       2012-10-05  3005         5002\n",
        "# 70009       270.65      2012-09-10  3001         5005\n",
        "# 70002       65.26       2012-10-05  3002         5001\n",
        "# 70004       110.5       2012-08-17  3009         5003\n",
        "# 70007       948.5       2012-09-10  3005         5002\n",
        "# 70005       2400.6      2012-07-27  3007         5001\n",
        "# 70008       5760        2012-09-10  3002         5001\n",
        "# 70010       1983.43     2012-10-10  3004         5006\n",
        "# 70003       2480.4      2012-10-10  3009         5003\n",
        "# 70012       250.45      2012-06-27  3008         5002\n",
        "# 70011       75.29       2012-08-17  3003         5007\n",
        "# 70013       3045.6      2012-04-25  3002         5001\n",
        "# Sample table: customer\n",
        "\n",
        "#  customer_id |   cust_name    |    city    | grade | salesman_id\n",
        "# -------------+----------------+------------+-------+-------------\n",
        "#         3002 | Nick Rimando   | New York   |   100 |        5001\n",
        "#         3007 | Brad Davis     | New York   |   200 |        5001\n",
        "#         3005 | Graham Zusi    | California |   200 |        5002\n",
        "#         3008 | Julian Green   | London     |   300 |        5002\n",
        "#         3004 | Fabian Johnson | Paris      |   300 |        5006\n",
        "#         3009 | Geoff Cameron  | Berlin     |   100 |        5003\n",
        "#         3003 | Jozy Altidor   | Moscow     |   200 |        5007\n",
        "#         3001 | Brad Guzan     | London     |       |        5005\n",
        "# Sample table: salesman\n",
        "\n",
        "#  salesman_id |    name    |   city   | commission\n",
        "# -------------+------------+----------+------------\n",
        "#         5001 | James Hoog | New York |       0.15\n",
        "#         5002 | Nail Knite | Paris    |       0.13\n",
        "#         5005 | Pit Alex   | London   |       0.11\n",
        "\n",
        "exe(\"SELECT a.ord_no, a.ord_date, a.purch_Amt, b.cust_name, b.grade, c.name, c.commission FROM orders a INNER JOIN customer b ON a.customer_id=b.customer_id INNER JOIN salesman c ON a.salesman_id=c.salesman_id\")"
      ],
      "metadata": {
        "colab": {
          "base_uri": "https://localhost:8080/",
          "height": 425
        },
        "id": "Qb3N46-fJ5wJ",
        "outputId": "74070c73-b06a-403b-b29b-786e83735a4a"
      },
      "execution_count": null,
      "outputs": [
        {
          "output_type": "execute_result",
          "data": {
            "text/plain": [
              "<IPython.core.display.Markdown object>"
            ],
            "text/markdown": "<table id='rs_tbl' class='table table-bordered' style='display: block; overflow-x: scroll'>\n<tr>\n<th>ord_no</th><th>ord_date</th><th>purch_amt</th><th>cust_name</th><th>grade</th><th>name</th><th>commission</th></tr><tr><td>70009</td><td>2012-09-10</td><td>270.65</td><td>Brad Guzan</td><td></td><td>Pit Alex</td><td>0.11</td></tr>\n<tr><td>70002</td><td>2012-10-05</td><td>65.26</td><td>Nick Rimando</td><td>100</td><td>James Hoog</td><td>0.15</td></tr>\n<tr><td>70004</td><td>2012-08-17</td><td>110.50</td><td>Geoff Cameron</td><td>100</td><td>Lauson Hen</td><td>0.12</td></tr>\n<tr><td>70005</td><td>2012-07-27</td><td>2400.60</td><td>Brad Davis</td><td>200</td><td>James Hoog</td><td>0.15</td></tr>\n<tr><td>70008</td><td>2012-09-10</td><td>5760.00</td><td>Nick Rimando</td><td>100</td><td>James Hoog</td><td>0.15</td></tr>\n<tr><td>70010</td><td>2012-10-10</td><td>1983.43</td><td>Fabian Johnson</td><td>300</td><td>Mc Lyon</td><td>0.14</td></tr>\n<tr><td>70003</td><td>2012-10-10</td><td>2480.40</td><td>Geoff Cameron</td><td>100</td><td>Lauson Hen</td><td>0.12</td></tr>\n<tr><td>70011</td><td>2012-08-17</td><td>75.29</td><td>Jozy Altidor</td><td>200</td><td>Paul Adam</td><td>0.13</td></tr>\n<tr><td>70013</td><td>2012-04-25</td><td>3045.60</td><td>Nick Rimando</td><td>100</td><td>James Hoog</td><td>0.15</td></tr>\n<tr><td>70001</td><td>2012-10-05</td><td>150.50</td><td>Graham Zusi</td><td>200</td><td>Nail Knite</td><td>0.13</td></tr>\n<tr><td>70007</td><td>2012-09-10</td><td>948.50</td><td>Graham Zusi</td><td>200</td><td>Nail Knite</td><td>0.13</td></tr>\n<tr><td>70012</td><td>2012-06-27</td><td>250.45</td><td>Julian Green</td><td>300</td><td>Nail Knite</td><td>0.13</td></tr>\n</table>\n"
          },
          "metadata": {},
          "execution_count": 23
        }
      ]
    },
    {
      "cell_type": "code",
      "source": [
        "# 7. Write a SQL statement to join the tables salesman, customer and orders so that the same column of each table appears once and only the relational rows are returned.\n",
        "\n",
        "# Sample table: orders\n",
        "\n",
        "# ord_no      purch_amt   ord_date    customer_id  salesman_id\n",
        "# ----------  ----------  ----------  -----------  -----------\n",
        "# 70001       150.5       2012-10-05  3005         5002\n",
        "# 70009       270.65      2012-09-10  3001         5005\n",
        "# 70002       65.26       2012-10-05  3002         5001\n",
        "# 70004       110.5       2012-08-17  3009         5003\n",
        "# 70007       948.5       2012-09-10  3005         5002\n",
        "# 70005       2400.6      2012-07-27  3007         5001\n",
        "# 70008       5760        2012-09-10  3002         5001\n",
        "# 70010       1983.43     2012-10-10  3004         5006\n",
        "# 70003       2480.4      2012-10-10  3009         5003\n",
        "# 70012       250.45      2012-06-27  3008         5002\n",
        "# 70011       75.29       2012-08-17  3003         5007\n",
        "# 70013       3045.6      2012-04-25  3002         5001\n",
        "# Sample table: customer\n",
        "\n",
        "#  customer_id |   cust_name    |    city    | grade | salesman_id\n",
        "# -------------+----------------+------------+-------+-------------\n",
        "#         3002 | Nick Rimando   | New York   |   100 |        5001\n",
        "#         3007 | Brad Davis     | New York   |   200 |        5001\n",
        "#         3005 | Graham Zusi    | California |   200 |        5002\n",
        "#         3008 | Julian Green   | London     |   300 |        5002\n",
        "#         3004 | Fabian Johnson | Paris      |   300 |        5006\n",
        "\n",
        "\n",
        "exe(\"SELECT * FROM orders NATURAL JOIN customer NATURAL JOIN salesman\")"
      ],
      "metadata": {
        "colab": {
          "base_uri": "https://localhost:8080/",
          "height": 361
        },
        "id": "JK4jNObyMFD9",
        "outputId": "471ef477-e033-406c-f1dc-4d8028422fa6"
      },
      "execution_count": null,
      "outputs": [
        {
          "output_type": "execute_result",
          "data": {
            "text/plain": [
              "<IPython.core.display.Markdown object>"
            ],
            "text/markdown": "<table id='rs_tbl' class='table table-bordered' style='display: block; overflow-x: scroll'>\n<tr>\n<th>salesman_id</th><th>city</th><th>customer_id</th><th>ord_no</th><th>purch_amt</th><th>ord_date</th><th>cust_name</th><th>grade</th><th>name</th><th>commission</th></tr><tr><td>5005</td><td>London</td><td>3001</td><td>70009</td><td>270.65</td><td>2012-09-10</td><td>Brad Guzan</td><td></td><td>Pit Alex</td><td>0.11</td></tr>\n<tr><td>5001</td><td>New York</td><td>3002</td><td>70002</td><td>65.26</td><td>2012-10-05</td><td>Nick Rimando</td><td>100</td><td>James Hoog</td><td>0.15</td></tr>\n<tr><td>5001</td><td>New York</td><td>3007</td><td>70005</td><td>2400.60</td><td>2012-07-27</td><td>Brad Davis</td><td>200</td><td>James Hoog</td><td>0.15</td></tr>\n<tr><td>5001</td><td>New York</td><td>3002</td><td>70008</td><td>5760.00</td><td>2012-09-10</td><td>Nick Rimando</td><td>100</td><td>James Hoog</td><td>0.15</td></tr>\n<tr><td>5006</td><td>Paris</td><td>3004</td><td>70010</td><td>1983.43</td><td>2012-10-10</td><td>Fabian Johnson</td><td>300</td><td>Mc Lyon</td><td>0.14</td></tr>\n<tr><td>5001</td><td>New York</td><td>3002</td><td>70013</td><td>3045.60</td><td>2012-04-25</td><td>Nick Rimando</td><td>100</td><td>James Hoog</td><td>0.15</td></tr>\n</table>\n"
          },
          "metadata": {},
          "execution_count": 25
        }
      ]
    },
    {
      "cell_type": "code",
      "source": [
        "# 4. From the following tables, write a SQL query to find all those employees who work in department ID 80 or 40. Return first name, last name, department\n",
        "# number and department name.\n",
        "exe(\"SELECT E.first_name , E.last_name, E.department_id ,  D.department_name FROM employees E JOIN departments D ON E.department_id = D.department_id AND E.department_id IN (80 , 40) ORDER BY E.last_name\")"
      ],
      "metadata": {
        "colab": {
          "base_uri": "https://localhost:8080/",
          "height": 1000
        },
        "id": "xzsQ_7_rQ-17",
        "outputId": "32a89fcb-4a2a-457e-a648-87ed15a0ce3e"
      },
      "execution_count": null,
      "outputs": [
        {
          "output_type": "execute_result",
          "data": {
            "text/plain": [
              "<IPython.core.display.Markdown object>"
            ],
            "text/markdown": "<table id='rs_tbl' class='table table-bordered' style='display: block; overflow-x: scroll'>\n<tr>\n<th>first_name</th><th>last_name</th><th>department_id</th><th>department_name</th></tr><tr><td>Ellen</td><td>Abel</td><td>80</td><td>Sales</td></tr>\n<tr><td>Sundar</td><td>Ande</td><td>80</td><td>Sales</td></tr>\n<tr><td>Amit</td><td>Banda</td><td>80</td><td>Sales</td></tr>\n<tr><td>Elizabeth</td><td>Bates</td><td>80</td><td>Sales</td></tr>\n<tr><td>David</td><td>Bernstein</td><td>80</td><td>Sales</td></tr>\n<tr><td>Harrison</td><td>Bloom</td><td>80</td><td>Sales</td></tr>\n<tr><td>Nanette</td><td>Cambrault</td><td>80</td><td>Sales</td></tr>\n<tr><td>Gerald</td><td>Cambrault</td><td>80</td><td>Sales</td></tr>\n<tr><td>Louise</td><td>Doran</td><td>80</td><td>Sales</td></tr>\n<tr><td>Alberto</td><td>Errazuriz</td><td>80</td><td>Sales</td></tr>\n<tr><td>Tayler</td><td>Fox</td><td>80</td><td>Sales</td></tr>\n<tr><td>Danielle</td><td>Greene</td><td>80</td><td>Sales</td></tr>\n<tr><td>Peter</td><td>Hall</td><td>80</td><td>Sales</td></tr>\n<tr><td>Alyssa</td><td>Hutton</td><td>80</td><td>Sales</td></tr>\n<tr><td>Charles</td><td>Johnson</td><td>80</td><td>Sales</td></tr>\n<tr><td>Janette</td><td>King</td><td>80</td><td>Sales</td></tr>\n<tr><td>Sundita</td><td>Kumar</td><td>80</td><td>Sales</td></tr>\n<tr><td>David</td><td>Lee</td><td>80</td><td>Sales</td></tr>\n<tr><td>Jack</td><td>Livingston</td><td>80</td><td>Sales</td></tr>\n<tr><td>Mattea</td><td>Marvins</td><td>80</td><td>Sales</td></tr>\n<tr><td>Susan</td><td>Mavris</td><td>40</td><td>Human Resources</td></tr>\n<tr><td>Allan</td><td>McEwen</td><td>80</td><td>Sales</td></tr>\n<tr><td>Christopher</td><td>Olsen</td><td>80</td><td>Sales</td></tr>\n<tr><td>Lisa</td><td>Ozer</td><td>80</td><td>Sales</td></tr>\n<tr><td>Karen</td><td>Partners</td><td>80</td><td>Sales</td></tr>\n<tr><td>John</td><td>Russell</td><td>80</td><td>Sales</td></tr>\n<tr><td>Sarath</td><td>Sewall</td><td>80</td><td>Sales</td></tr>\n<tr><td>Lindsey</td><td>Smith</td><td>80</td><td>Sales</td></tr>\n<tr><td>William</td><td>Smith</td><td>80</td><td>Sales</td></tr>\n<tr><td>Patrick</td><td>Sully</td><td>80</td><td>Sales</td></tr>\n<tr><td>Jonathon</td><td>Taylor</td><td>80</td><td>Sales</td></tr>\n<tr><td>Peter</td><td>Tucker</td><td>80</td><td>Sales</td></tr>\n<tr><td>Oliver</td><td>Tuvault</td><td>80</td><td>Sales</td></tr>\n<tr><td>Clara</td><td>Vishney</td><td>80</td><td>Sales</td></tr>\n<tr><td>Eleni</td><td>Zlotkey</td><td>80</td><td>Sales</td></tr>\n</table>\n"
          },
          "metadata": {},
          "execution_count": 26
        }
      ]
    },
    {
      "cell_type": "code",
      "source": [
        "# # 6. From the following tables, write a SQL query to find all departments,\n",
        "# including those without employees. Return first name, last name, department ID\n",
        "# , dep\n",
        "# # artment name.\n",
        "exe(\"SELECT a.first_name, a.last_name, a.department_id,b.department_name FROM departments b INNER JOIN employees a ON departments.department_id\")"
      ],
      "metadata": {
        "colab": {
          "base_uri": "https://localhost:8080/",
          "height": 17
        },
        "id": "MC9-W1Tfg46p",
        "outputId": "38ecd8be-c4df-4732-b602-02216bc9fd72"
      },
      "execution_count": null,
      "outputs": [
        {
          "output_type": "execute_result",
          "data": {
            "text/plain": [
              "<IPython.core.display.Markdown object>"
            ],
            "text/markdown": "<table id='rs_tbl' class='table table-bordered' style='display: block; overflow-x: scroll'>\n<tr>\n</tr></table>\n"
          },
          "metadata": {},
          "execution_count": 28
        }
      ]
    }
  ],
  "metadata": {
    "kernelspec": {
      "display_name": "Python 3",
      "language": "python",
      "name": "python3"
    },
    "language_info": {
      "codemirror_mode": {
        "name": "ipython",
        "version": 3
      },
      "file_extension": ".py",
      "mimetype": "text/x-python",
      "name": "python",
      "nbconvert_exporter": "python",
      "pygments_lexer": "ipython3",
      "version": "3.9.6"
    },
    "colab": {
      "provenance": [],
      "include_colab_link": true
    }
  },
  "nbformat": 4,
  "nbformat_minor": 0
}